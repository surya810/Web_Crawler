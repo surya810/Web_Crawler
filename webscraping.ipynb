{
  "nbformat": 4,
  "nbformat_minor": 0,
  "metadata": {
    "colab": {
      "provenance": [],
      "collapsed_sections": [],
      "authorship_tag": "ABX9TyO4zuthv0GbhlxzwN8Ipfse"
    },
    "kernelspec": {
      "name": "python3",
      "display_name": "Python 3"
    },
    "language_info": {
      "name": "python"
    }
  },
  "cells": [
    {
      "cell_type": "code",
      "source": [
        "# Importedpackages for web Scraping\n",
        "import requests \n",
        "from bs4 import BeautifulSoup as bs\n",
        "\n",
        "# Defined the Function for the desired output\n",
        "\n",
        "def Webcrawler_Code(url_response):\n",
        "  # declared a list\n",
        "    Concepts_Covered=[]\n",
        "    # Parsing the html\n",
        "    beautifyed_html  = bs(url_response,\"html.parser\")\n",
        "    #Finding the element by class\n",
        "    div_result = beautifyed_html.find('article', class_='blog-single-post')\n",
        "    CourseProgramName=div_result.h2.text \n",
        "    # Finding all ul tags of the particular class which has mentioned at line no 13 \n",
        "    for ul in div_result.find_all('ul'):\n",
        "      # Findind sibling of paragraph tag which has the text 'Concepts covered'\n",
        "          if ul.find_previous_sibling('p').text =='Concepts Covered':\n",
        "            # now we are  findind list elements \n",
        "                for li in ul.find_all('li'):\n",
        "                  # append those listing items to a list\n",
        "                    Concepts_Covered.append(li.text)\n",
        "                program={CourseProgramName:Concepts_Covered}\n",
        "                \n",
        "    return dict(program) #program name and list items are returned as a dictionary \n",
        "            \n",
        "                \n",
        "           \n",
        "    \n",
        "                \n",
        "            \n",
        "                \n",
        "# Taking input of the url\n",
        "given_url = input(\"Please enter a Url:\") \n",
        "#calling the Webcrawler_Function    \n",
        "url_response = requests.get(given_url).content\n",
        "\n",
        "print(Webcrawler_Code(url_response))"
      ],
      "metadata": {
        "id": "aPWJ83HuYqG-",
        "colab": {
          "base_uri": "https://localhost:8080/"
        },
        "outputId": "c63ce479-f650-45bf-cd71-5a15b19b5fd5"
      },
      "execution_count": 2,
      "outputs": [
        {
          "output_type": "stream",
          "name": "stdout",
          "text": [
            "Please enter a Url:https://knowthychoice.in/blog/ktc-intern-data-science/\n",
            "{'Data Science Internship': ['Introduction to The World Of Data Science', 'Preparation Data & picking Attributes', 'Data Cleaning', 'Data Exploration And Analysis', 'Data Modeling', 'Data Validation', 'Project: Analyze data for a real case study', 'End of Intern Presentations & Evaluation']}\n"
          ]
        }
      ]
    }
  ]
}